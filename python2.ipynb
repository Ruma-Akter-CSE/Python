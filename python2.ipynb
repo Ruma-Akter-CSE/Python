{
  "nbformat": 4,
  "nbformat_minor": 0,
  "metadata": {
    "colab": {
      "provenance": []
    },
    "kernelspec": {
      "name": "python3",
      "display_name": "Python 3"
    },
    "language_info": {
      "name": "python"
    }
  },
  "cells": [
    {
      "cell_type": "code",
      "execution_count": null,
      "metadata": {
        "colab": {
          "base_uri": "https://localhost:8080/"
        },
        "id": "Sz3pKcqNaqVe",
        "outputId": "ea4d1b11-2a2d-4b6f-f7e9-53fd5d2705c9"
      },
      "outputs": [
        {
          "output_type": "stream",
          "name": "stdout",
          "text": [
            "Welcome to GFG\n"
          ]
        }
      ],
      "source": [
        "def fn():\n",
        "  print(\"Welcome to GFG\")\n",
        "\n",
        "fn()"
      ]
    },
    {
      "cell_type": "code",
      "source": [
        "def is_prime(n):\n",
        "    if n in [2, 3]:\n",
        "        return True\n",
        "    if n == 1 or n % 2 == 0:\n",
        "        return False\n",
        "\n",
        "    r = 3\n",
        "    while r * r <= n:\n",
        "        if n % r == 0:\n",
        "            return False\n",
        "        r += 2  # Increment r within the loop.\n",
        "    return True\n",
        "\n",
        "print(is_prime(78), is_prime(79))\n"
      ],
      "metadata": {
        "colab": {
          "base_uri": "https://localhost:8080/"
        },
        "id": "UsGhYkXuqX2S",
        "outputId": "c686903e-e2f6-4634-82d0-19c701075476"
      },
      "execution_count": null,
      "outputs": [
        {
          "output_type": "stream",
          "name": "stdout",
          "text": [
            "False True\n"
          ]
        }
      ]
    },
    {
      "cell_type": "code",
      "source": [
        "def myfun(x, y =50):\n",
        "    print(\"x:\", x)\n",
        "    print(\"y:\", y)\n",
        "\n",
        "myfun(10)"
      ],
      "metadata": {
        "colab": {
          "base_uri": "https://localhost:8080/"
        },
        "id": "RI0qv-7GcnuL",
        "outputId": "b1462b33-b51c-4bbe-a148-64431ebe6928"
      },
      "execution_count": null,
      "outputs": [
        {
          "output_type": "stream",
          "name": "stdout",
          "text": [
            "x: 10\n",
            "y: 50\n"
          ]
        }
      ]
    },
    {
      "cell_type": "code",
      "source": [
        "string1 = \"GeeksForGeeks\"\n",
        "print(\"initial string\")\n",
        "print(string1)\n",
        "\n",
        "print(\"\\n First character of String is:\")\n",
        "print(string1[:1])\n",
        "\n",
        "print(\"\\n last character of String is:\")\n",
        "print(string1[:-1])"
      ],
      "metadata": {
        "colab": {
          "base_uri": "https://localhost:8080/"
        },
        "id": "hogQcsUwqP7b",
        "outputId": "ea233934-be50-41ec-ec68-8f205cf9871d"
      },
      "execution_count": null,
      "outputs": [
        {
          "output_type": "stream",
          "name": "stdout",
          "text": [
            "initial string\n",
            "GeeksForGeeks\n",
            "\n",
            " First character of String is:\n",
            "G\n",
            "\n",
            " last character of String is:\n",
            "GeeksForGeek\n"
          ]
        }
      ]
    },
    {
      "cell_type": "code",
      "source": [
        "def square_value(num):\n",
        "    return num ** 2\n",
        "\n",
        "print(square_value(2))\n",
        "print(square_value(4))\n"
      ],
      "metadata": {
        "colab": {
          "base_uri": "https://localhost:8080/"
        },
        "id": "IOcSO4uYc-iy",
        "outputId": "2ca1a29f-c94d-439a-8617-772d4ac0b2f5"
      },
      "execution_count": null,
      "outputs": [
        {
          "output_type": "stream",
          "name": "stdout",
          "text": [
            "4\n",
            "16\n"
          ]
        }
      ]
    },
    {
      "cell_type": "code",
      "source": [
        "def myfun(x):\n",
        "   x[0]=20\n",
        "\n",
        "   lst = [10,11,12,13,14,15]\n",
        "   myfun(lst)\n",
        "   print(lst)"
      ],
      "metadata": {
        "id": "_cjy0_4ld21V"
      },
      "execution_count": null,
      "outputs": []
    },
    {
      "cell_type": "code",
      "source": [
        "string1 = \"geeksorgeeks\"\n",
        "print(\"initial string: \")\n",
        "print()"
      ],
      "metadata": {
        "colab": {
          "base_uri": "https://localhost:8080/"
        },
        "id": "nEusbH93eWMt",
        "outputId": "2b0c7020-6450-4938-f445-5b3ca0856ea1"
      },
      "execution_count": null,
      "outputs": [
        {
          "output_type": "stream",
          "name": "stdout",
          "text": [
            "initial string: \n",
            "\n"
          ]
        }
      ]
    },
    {
      "cell_type": "code",
      "source": [
        "gfg = \"geeksforgeeks\"\n",
        "print(gfg[::-1])"
      ],
      "metadata": {
        "colab": {
          "base_uri": "https://localhost:8080/"
        },
        "id": "yyK63oyOe52x",
        "outputId": "e81817e3-b085-4f56-ad25-a753d35bc6e6"
      },
      "execution_count": null,
      "outputs": [
        {
          "output_type": "stream",
          "name": "stdout",
          "text": [
            "skeegrofskeeg\n"
          ]
        }
      ]
    },
    {
      "cell_type": "code",
      "source": [
        "gfg=input(\"otpt is: \")\n",
        "print(gfg[::-1])"
      ],
      "metadata": {
        "colab": {
          "base_uri": "https://localhost:8080/"
        },
        "id": "Sb3kaZR0fGhS",
        "outputId": "86d8e28b-4d58-416e-aa02-0d906278e1a6"
      },
      "execution_count": null,
      "outputs": [
        {
          "output_type": "stream",
          "name": "stdout",
          "text": [
            "otpt is: dhgfjhdfdh\n",
            "hdfdhjfghd\n"
          ]
        }
      ]
    },
    {
      "cell_type": "code",
      "source": [
        "value = ord(\"A\")\n",
        "value1 = ord(' ')\n",
        "\n",
        "print(value, value1)"
      ],
      "metadata": {
        "colab": {
          "base_uri": "https://localhost:8080/"
        },
        "id": "BydSpo8Bff9R",
        "outputId": "b666249d-f395-4d1f-bfff-2ffe4a09f993"
      },
      "execution_count": null,
      "outputs": [
        {
          "output_type": "stream",
          "name": "stdout",
          "text": [
            "65 32\n"
          ]
        }
      ]
    },
    {
      "cell_type": "code",
      "source": [
        "print(chr(97))"
      ],
      "metadata": {
        "colab": {
          "base_uri": "https://localhost:8080/"
        },
        "id": "jtccaq58f0gH",
        "outputId": "6d0997c8-4c2c-4da1-fa55-3e097529527d"
      },
      "execution_count": null,
      "outputs": [
        {
          "output_type": "stream",
          "name": "stdout",
          "text": [
            "a\n"
          ]
        }
      ]
    },
    {
      "cell_type": "code",
      "source": [
        "s1 = ' geeksfogeeks'\n",
        "s2 = 'geeks'\n",
        "print(s2 in s1)\n",
        "print(s2 not in s1)"
      ],
      "metadata": {
        "colab": {
          "base_uri": "https://localhost:8080/"
        },
        "id": "ncVUVgSIf5JQ",
        "outputId": "1faf45f2-d3cb-4691-a368-3dd91642b69a"
      },
      "execution_count": null,
      "outputs": [
        {
          "output_type": "stream",
          "name": "stdout",
          "text": [
            "True\n",
            "False\n"
          ]
        }
      ]
    },
    {
      "cell_type": "code",
      "source": [
        "test_string = \"1234gfg4321\"\n",
        "\n",
        "print(test_string.index('gfg', 4, 8))\n",
        "\n",
        "print(test_string.index(\"21\", 8, len(test_string)))\n",
        "\n",
        "print(test_string.index(\"32\", 5,-1))"
      ],
      "metadata": {
        "colab": {
          "base_uri": "https://localhost:8080/"
        },
        "id": "9C3AdFM_gaua",
        "outputId": "c21c263c-cd4c-45ae-aa70-59d0749f1bb0"
      },
      "execution_count": null,
      "outputs": [
        {
          "output_type": "stream",
          "name": "stdout",
          "text": [
            "4\n",
            "9\n",
            "8\n"
          ]
        }
      ]
    },
    {
      "cell_type": "code",
      "source": [
        "s = 'geeks for geeks'\n",
        "\n",
        "print(s.split(\" \"))\n",
        "print(\"_\".join(s.split()))"
      ],
      "metadata": {
        "colab": {
          "base_uri": "https://localhost:8080/"
        },
        "id": "75xwfbc0ht_2",
        "outputId": "d69f4299-a8c7-4d11-a2bf-4f684cf00ff2"
      },
      "execution_count": null,
      "outputs": [
        {
          "output_type": "stream",
          "name": "stdout",
          "text": [
            "['geeks', 'for', 'geeks']\n",
            "geeks_for_geeks\n"
          ]
        }
      ]
    },
    {
      "cell_type": "code",
      "source": [
        "word = 'geeks for geeks'\n",
        "print(word.find('for'))"
      ],
      "metadata": {
        "colab": {
          "base_uri": "https://localhost:8080/"
        },
        "id": "RXISvOnpjN0p",
        "outputId": "58ac43d2-9204-4d3c-bb7b-7b2ea94c4329"
      },
      "execution_count": null,
      "outputs": [
        {
          "output_type": "stream",
          "name": "stdout",
          "text": [
            "6\n"
          ]
        }
      ]
    },
    {
      "cell_type": "code",
      "source": [
        "print (\"Geek\"==\"Geek\")\n",
        "print (\"Geek\" < \"Geek\")\n",
        "print (\"Geek\" > \"Geek\")\n",
        "print (\"Geek\" != \"Geek\")\n",
        "#unicode ber korte bolse\n"
      ],
      "metadata": {
        "colab": {
          "base_uri": "https://localhost:8080/"
        },
        "id": "7F10D8PNkESd",
        "outputId": "07fbe310-9fc6-42b9-c35b-3ad895ffeca3"
      },
      "execution_count": null,
      "outputs": [
        {
          "output_type": "stream",
          "name": "stdout",
          "text": [
            "True\n",
            "False\n",
            "False\n",
            "False\n"
          ]
        }
      ]
    },
    {
      "cell_type": "code",
      "source": [
        "word = \"geeks\"\n",
        "unicd= [ord(char) for char in word]\n",
        "\n",
        "for char, code in zip(word, unicd):\n",
        "    print(f\"The Unicode code point of '{char}' is {code}\")\n"
      ],
      "metadata": {
        "colab": {
          "base_uri": "https://localhost:8080/"
        },
        "id": "7R4q_h_2kuag",
        "outputId": "ac6e4adb-9102-423b-f4d4-52ba8ec1a594"
      },
      "execution_count": null,
      "outputs": [
        {
          "output_type": "stream",
          "name": "stdout",
          "text": [
            "The Unicode code point of 'g' is 103\n",
            "The Unicode code point of 'e' is 101\n",
            "The Unicode code point of 'e' is 101\n",
            "The Unicode code point of 'k' is 107\n",
            "The Unicode code point of 's' is 115\n"
          ]
        }
      ]
    }
  ]
}