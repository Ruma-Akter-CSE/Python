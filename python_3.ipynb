{
  "nbformat": 4,
  "nbformat_minor": 0,
  "metadata": {
    "colab": {
      "provenance": []
    },
    "kernelspec": {
      "name": "python3",
      "display_name": "Python 3"
    },
    "language_info": {
      "name": "python"
    }
  },
  "cells": [
    {
      "cell_type": "code",
      "execution_count": null,
      "metadata": {
        "colab": {
          "base_uri": "https://localhost:8080/"
        },
        "id": "CdPrHt25r7JT",
        "outputId": "f208f471-e31f-4e31-dae6-9e48a4129b12"
      },
      "outputs": [
        {
          "output_type": "stream",
          "name": "stdout",
          "text": [
            "30\n"
          ]
        }
      ],
      "source": [
        "\n",
        "age = 30\n",
        "print(age)\n",
        "\n"
      ]
    },
    {
      "cell_type": "code",
      "source": [
        "name = \"ruma\"\n",
        "print(name)"
      ],
      "metadata": {
        "colab": {
          "base_uri": "https://localhost:8080/"
        },
        "id": "hs-XtS3MuRLI",
        "outputId": "8647dc25-aa84-469c-bd37-3f06956bd2f2"
      },
      "execution_count": null,
      "outputs": [
        {
          "output_type": "stream",
          "name": "stdout",
          "text": [
            "ruma\n"
          ]
        }
      ]
    },
    {
      "cell_type": "code",
      "source": [
        "cloud = {\n",
        "    \"name\": \"ruma\",\n",
        "    \"age\": 24,\n",
        "    \"title\": \"cloud intern\",\n",
        "     \"depertment\": \"cse\",\n",
        "    \"office\": \"inflexionpoint bd\"\n",
        "\n",
        "}\n",
        "print(cloud)"
      ],
      "metadata": {
        "colab": {
          "base_uri": "https://localhost:8080/"
        },
        "id": "rveNMb3nuUt4",
        "outputId": "03a41449-64ca-4687-bac2-b6c4635d23e2"
      },
      "execution_count": null,
      "outputs": [
        {
          "output_type": "stream",
          "name": "stdout",
          "text": [
            "{'name': 'ruma', 'age': 24, 'title': 'cloud intern', 'depertment': 'cse', 'office': 'inflexionpoint bd'}\n"
          ]
        }
      ]
    },
    {
      "cell_type": "code",
      "source": [
        "number = 42\n",
        "\n",
        "number2= str(number)\n",
        "\n",
        "result2 = \"The number is: \" + number2\n",
        "\n",
        "print(result2)"
      ],
      "metadata": {
        "colab": {
          "base_uri": "https://localhost:8080/"
        },
        "id": "Oe2yi3-awRs9",
        "outputId": "9da7b6dd-1d1a-4b5d-e800-237f42958f79"
      },
      "execution_count": null,
      "outputs": [
        {
          "output_type": "stream",
          "name": "stdout",
          "text": [
            "The number is: 42\n"
          ]
        }
      ]
    },
    {
      "cell_type": "code",
      "source": [
        "ruma = 5\n",
        "ava = 10\n",
        "\n",
        "#print(\"ruma:\", ruma)\n",
        "#print(\"ava:\", ava)\n",
        "if ruma < ava:\n",
        "    print(\"ruma is less than ava.\")\n",
        "elif ruma > ava:\n",
        "    print(\"ruma is greater than ava.\")\n",
        "else:\n",
        "    print(\"ruma is equal to ava.\")\n",
        "\n"
      ],
      "metadata": {
        "colab": {
          "base_uri": "https://localhost:8080/"
        },
        "id": "Bi8WgpagxGNA",
        "outputId": "a2eb09c8-7028-41f6-92ed-39786295c8a1"
      },
      "execution_count": null,
      "outputs": [
        {
          "output_type": "stream",
          "name": "stdout",
          "text": [
            "ruma is less than ava.\n"
          ]
        }
      ]
    },
    {
      "cell_type": "code",
      "source": [
        "\n",
        "ruma = 5\n",
        "ava = 7\n",
        "\n",
        "sum = ruma + ava\n",
        "\n",
        "print(\"The sum of\", ruma, \"and\", ava, \"is:\", sum)\n"
      ],
      "metadata": {
        "colab": {
          "base_uri": "https://localhost:8080/"
        },
        "id": "XoSMKsaszDxN",
        "outputId": "be497f14-1d4d-4fdb-86a9-f89f0be70cff"
      },
      "execution_count": null,
      "outputs": [
        {
          "output_type": "stream",
          "name": "stdout",
          "text": [
            "The sum of 5 and 7 is: 35\n"
          ]
        }
      ]
    },
    {
      "cell_type": "code",
      "source": [
        "\n",
        "\n",
        "import random\n",
        "\n",
        "\n",
        "names = [\"ruma\", \"ava\", \"faisal\", \"sume\", \"mehedi\", \"adiii\"]\n",
        "\n",
        "ran_name = random.choice(names)\n",
        "ran_name2 = random.choice(names)\n",
        "\n",
        "\n",
        "print(\"Randomly select name:\", ran_name)\n",
        "print(\"Randomly select name:\", ran_name2)\n",
        "\n",
        "\n"
      ],
      "metadata": {
        "colab": {
          "base_uri": "https://localhost:8080/"
        },
        "id": "0TKnTzn5z-St",
        "outputId": "55459aad-d6e7-49ea-9650-aee463a3160f"
      },
      "execution_count": null,
      "outputs": [
        {
          "output_type": "stream",
          "name": "stdout",
          "text": [
            "Randomly select name: mehedi\n",
            "Randomly select name: sume\n"
          ]
        }
      ]
    },
    {
      "cell_type": "code",
      "source": [
        "\n",
        "import random\n",
        "name = ['ruma', 'ava', 'toma']\n",
        "pick_name = random.choice(names)\n",
        "\n",
        "print(\" select name: \", pick_name)"
      ],
      "metadata": {
        "colab": {
          "base_uri": "https://localhost:8080/"
        },
        "id": "c6VOldwH2rwN",
        "outputId": "792e56df-7579-428e-b436-7bd8c58547d9"
      },
      "execution_count": null,
      "outputs": [
        {
          "output_type": "stream",
          "name": "stdout",
          "text": [
            " select name:  ava\n"
          ]
        }
      ]
    },
    {
      "cell_type": "code",
      "source": [
        "n= 5\n",
        "for i in range(n):\n",
        "    print(\"loop:\", i)\n"
      ],
      "metadata": {
        "colab": {
          "base_uri": "https://localhost:8080/"
        },
        "id": "lH3ieqYI3xHN",
        "outputId": "039cc38b-f60c-47c9-d342-f8e7c47dbd54"
      },
      "execution_count": null,
      "outputs": [
        {
          "output_type": "stream",
          "name": "stdout",
          "text": [
            "loop: 0\n",
            "loop: 1\n",
            "loop: 2\n",
            "loop: 3\n",
            "loop: 4\n"
          ]
        }
      ]
    },
    {
      "cell_type": "code",
      "source": [
        "counter = 0\n",
        "\n",
        "while counter < 10:\n",
        "    print(\"Counter:\", counter)\n",
        "    counter += 1\n"
      ],
      "metadata": {
        "colab": {
          "base_uri": "https://localhost:8080/"
        },
        "id": "xBX54eYK6Nhx",
        "outputId": "f3aaa5ec-ece0-4050-9a6b-11419a1ab34a"
      },
      "execution_count": null,
      "outputs": [
        {
          "output_type": "stream",
          "name": "stdout",
          "text": [
            "Counter: 0\n",
            "Counter: 1\n",
            "Counter: 2\n",
            "Counter: 3\n",
            "Counter: 4\n",
            "Counter: 5\n",
            "Counter: 6\n",
            "Counter: 7\n",
            "Counter: 8\n",
            "Counter: 9\n"
          ]
        }
      ]
    },
    {
      "cell_type": "code",
      "source": [
        "for num in range(1, 11):\n",
        "    if num % 2 == 0:\n",
        "        print(\"Even number:\", num)\n"
      ],
      "metadata": {
        "colab": {
          "base_uri": "https://localhost:8080/"
        },
        "id": "dSjL9B9B8yIP",
        "outputId": "9cbd223c-2515-460b-8223-64314a21c29e"
      },
      "execution_count": null,
      "outputs": [
        {
          "output_type": "stream",
          "name": "stdout",
          "text": [
            "Even number: 2\n",
            "Even number: 4\n",
            "Even number: 6\n",
            "Even number: 8\n",
            "Even number: 10\n"
          ]
        }
      ]
    },
    {
      "cell_type": "code",
      "source": [
        "for num in range(1, 11):\n",
        "    if num % 2 != 0:\n",
        "        print(\"Odd number:\", num)\n"
      ],
      "metadata": {
        "colab": {
          "base_uri": "https://localhost:8080/"
        },
        "id": "nAXngGbw87nv",
        "outputId": "86f9c7f8-7865-408f-bac8-f77153eeb35c"
      },
      "execution_count": null,
      "outputs": [
        {
          "output_type": "stream",
          "name": "stdout",
          "text": [
            "Odd number: 1\n",
            "Odd number: 3\n",
            "Odd number: 5\n",
            "Odd number: 7\n",
            "Odd number: 9\n"
          ]
        }
      ]
    },
    {
      "cell_type": "code",
      "source": [
        "for num in range (0, 10):\n",
        "  if num % 2 == 0:\n",
        "    print (num)"
      ],
      "metadata": {
        "colab": {
          "base_uri": "https://localhost:8080/"
        },
        "id": "0KwfL92J-xCX",
        "outputId": "991a5d6a-b5d8-41ee-8e9c-1dd0e907b4d3"
      },
      "execution_count": null,
      "outputs": [
        {
          "output_type": "stream",
          "name": "stdout",
          "text": [
            "0\n",
            "2\n",
            "4\n",
            "6\n",
            "8\n"
          ]
        }
      ]
    },
    {
      "cell_type": "code",
      "source": [
        "for i in range(5):\n",
        "  print(\"loop\", i)"
      ],
      "metadata": {
        "colab": {
          "base_uri": "https://localhost:8080/"
        },
        "id": "TorYkowN_S4f",
        "outputId": "c1b295fc-ec91-4348-c6dc-73a82703b42b"
      },
      "execution_count": null,
      "outputs": [
        {
          "output_type": "stream",
          "name": "stdout",
          "text": [
            "loop 0\n",
            "loop 1\n",
            "loop 2\n",
            "loop 3\n",
            "loop 4\n"
          ]
        }
      ]
    },
    {
      "cell_type": "code",
      "source": [
        "ruma = 10\n",
        "ava = 20\n",
        "\n",
        "mul = ruma * ava\n",
        "print(mul)"
      ],
      "metadata": {
        "colab": {
          "base_uri": "https://localhost:8080/"
        },
        "id": "rCiGl0caAajb",
        "outputId": "f8e0d867-828b-426f-a852-5e891583079c"
      },
      "execution_count": null,
      "outputs": [
        {
          "output_type": "stream",
          "name": "stdout",
          "text": [
            "200\n"
          ]
        }
      ]
    },
    {
      "cell_type": "code",
      "source": [
        "ruma = [1,2,3]\n",
        "\n",
        "print(ruma)"
      ],
      "metadata": {
        "colab": {
          "base_uri": "https://localhost:8080/"
        },
        "id": "qgCMD4QSAy_G",
        "outputId": "388978fb-51d9-4033-cfc9-06b28e2fbfeb"
      },
      "execution_count": null,
      "outputs": [
        {
          "output_type": "stream",
          "name": "stdout",
          "text": [
            "[1, 2, 3]\n"
          ]
        }
      ]
    },
    {
      "cell_type": "code",
      "source": [
        "ruma = 10\n",
        "ava = 20\n",
        "\n",
        "if ruma < ava :\n",
        "   print(\"ruma less then ava\" )\n",
        "elif ruma > ava:\n",
        "   print(\"ruma greater then ava\")\n",
        "else :\n",
        "  print (\" both equal\")\n"
      ],
      "metadata": {
        "colab": {
          "base_uri": "https://localhost:8080/"
        },
        "id": "3L7abJhWBDPr",
        "outputId": "41d1028b-9be0-4293-e2f7-15674f260311"
      },
      "execution_count": null,
      "outputs": [
        {
          "output_type": "stream",
          "name": "stdout",
          "text": [
            "ruma less then ava\n"
          ]
        }
      ]
    },
    {
      "cell_type": "code",
      "source": [
        "ruma = 0\n",
        "while ruma< 10:\n",
        "  print(\"ruma\", ruma)\n",
        "  ruma += 1"
      ],
      "metadata": {
        "colab": {
          "base_uri": "https://localhost:8080/"
        },
        "id": "qsu_Mh7GGdII",
        "outputId": "d994c927-d3f2-49b7-982e-081abc46f72e"
      },
      "execution_count": null,
      "outputs": [
        {
          "output_type": "stream",
          "name": "stdout",
          "text": [
            "ruma 0\n",
            "ruma 1\n",
            "ruma 2\n",
            "ruma 3\n",
            "ruma 4\n",
            "ruma 5\n",
            "ruma 6\n",
            "ruma 7\n",
            "ruma 8\n",
            "ruma 9\n"
          ]
        }
      ]
    },
    {
      "cell_type": "code",
      "source": [
        "# 9/13/2023 next din exam\n",
        "print(\" my name is ruma\")\n",
        "\n",
        "print(\"this is nothing ** but a mere game\", end = \"\")\n",
        "print(\" my name is ruma\")\n",
        "print(\" my name is ruma\")"
      ],
      "metadata": {
        "colab": {
          "base_uri": "https://localhost:8080/"
        },
        "id": "aqSCzt3OrWFq",
        "outputId": "0bc96436-78b7-45c0-a28c-2cdc5d23d783"
      },
      "execution_count": null,
      "outputs": [
        {
          "output_type": "stream",
          "name": "stdout",
          "text": [
            " my name is ruma\n",
            "this is nothing ** but a mere game my name is ruma\n",
            " my name is ruma\n"
          ]
        }
      ]
    },
    {
      "cell_type": "code",
      "source": [
        "print(\"this is nothing but a mere game\", end = \" * ruma *\")"
      ],
      "metadata": {
        "colab": {
          "base_uri": "https://localhost:8080/"
        },
        "id": "3KN2ZGA-tMlP",
        "outputId": "72b6c3fb-483a-416c-878a-dbf5f90c266e"
      },
      "execution_count": null,
      "outputs": [
        {
          "output_type": "stream",
          "name": "stdout",
          "text": [
            "this is nothing but a mere game * ruma *"
          ]
        }
      ]
    },
    {
      "cell_type": "code",
      "source": [
        "print(\"An example\")"
      ],
      "metadata": {
        "colab": {
          "base_uri": "https://localhost:8080/"
        },
        "id": "uSG-utqlt0B7",
        "outputId": "dbeebab2-25de-4033-e765-dde67ca38ea9"
      },
      "execution_count": null,
      "outputs": [
        {
          "output_type": "stream",
          "name": "stdout",
          "text": [
            "An example\n"
          ]
        }
      ]
    },
    {
      "cell_type": "code",
      "source": [
        "print(\"This will add the next line to this line.\", end=\" \")\n"
      ],
      "metadata": {
        "colab": {
          "base_uri": "https://localhost:8080/"
        },
        "id": "NOGLn9I2t5RD",
        "outputId": "401da6b9-a00f-4c5f-c9c8-b15130dc521e"
      },
      "execution_count": null,
      "outputs": [
        {
          "output_type": "stream",
          "name": "stdout",
          "text": [
            "This will add the next line to this line. "
          ]
        }
      ]
    },
    {
      "cell_type": "code",
      "source": [
        "print(\"This will add the next line to this line.\", end=\" \")\n",
        "print(\"This is the next line\")"
      ],
      "metadata": {
        "colab": {
          "base_uri": "https://localhost:8080/"
        },
        "id": "io2V32FXuE6T",
        "outputId": "c56b616e-b0a6-428c-f3b8-9fd68b54e232"
      },
      "execution_count": null,
      "outputs": [
        {
          "output_type": "stream",
          "name": "stdout",
          "text": [
            "This will add the next line to this line. This is the next line\n"
          ]
        }
      ]
    },
    {
      "cell_type": "code",
      "source": [
        "print(\"this will add the next line to this line.\", end = \" Hello Ruma \")\n",
        "print(\"this is the line\")"
      ],
      "metadata": {
        "colab": {
          "base_uri": "https://localhost:8080/"
        },
        "id": "ChPG3GuYug9z",
        "outputId": "1fdb6841-afc6-4f7c-a2ef-325af19a9057"
      },
      "execution_count": null,
      "outputs": [
        {
          "output_type": "stream",
          "name": "stdout",
          "text": [
            "this will add the next line to this line. Hello Ruma this is the line\n"
          ]
        }
      ]
    },
    {
      "cell_type": "code",
      "source": [
        "age = 24\n",
        "salary = 4000.0\n",
        "name = \" ruma\"\n",
        "\n",
        "print(age)\n",
        "print(salary)\n",
        "print(name)\n",
        "my_varibale = type(salary)\n",
        "print(\" data type\", my_varibale)"
      ],
      "metadata": {
        "colab": {
          "base_uri": "https://localhost:8080/"
        },
        "id": "-BIq72WrwaYO",
        "outputId": "24c3415b-6099-475b-ac9b-5c5fa729640f"
      },
      "execution_count": null,
      "outputs": [
        {
          "output_type": "stream",
          "name": "stdout",
          "text": [
            "24\n",
            "4000.0\n",
            " ruma\n",
            " data type <class 'float'>\n"
          ]
        }
      ]
    },
    {
      "cell_type": "code",
      "source": [
        "\n",
        "my_variable = 42\n",
        "\n",
        "variable_type = type(my_variable)\n",
        "\n",
        "print(\"The data type of my_variable is:\", variable_type)\n"
      ],
      "metadata": {
        "colab": {
          "base_uri": "https://localhost:8080/"
        },
        "id": "CHBLo8n1xWt0",
        "outputId": "02e6c57c-2f1c-4696-8e3b-673bdab43756"
      },
      "execution_count": null,
      "outputs": [
        {
          "output_type": "stream",
          "name": "stdout",
          "text": [
            "The data type of my_variable is: <class 'int'>\n"
          ]
        }
      ]
    },
    {
      "cell_type": "code",
      "source": [
        "a = b = c= 10\n",
        "\n",
        "print(a)\n",
        "print(b)\n",
        "print(c)"
      ],
      "metadata": {
        "colab": {
          "base_uri": "https://localhost:8080/"
        },
        "id": "6UIk13s5xzk6",
        "outputId": "e28a2d80-8643-4fdd-b5c2-31d3b7ead419"
      },
      "execution_count": null,
      "outputs": [
        {
          "output_type": "stream",
          "name": "stdout",
          "text": [
            "10\n",
            "10\n",
            "10\n"
          ]
        }
      ]
    },
    {
      "cell_type": "code",
      "source": [
        "\n",
        "a,b,c=1,20.2, \"sdhgdhs\"\n",
        "var_type = type(c)\n",
        "print(a)\n",
        "print(b)\n",
        "print(c)\n",
        "print(\"var type\", var_type)"
      ],
      "metadata": {
        "colab": {
          "base_uri": "https://localhost:8080/"
        },
        "id": "VUtHVCl5yJSx",
        "outputId": "7dd6e2c7-f0e2-4cab-faa2-9f1335c9ec3c"
      },
      "execution_count": null,
      "outputs": [
        {
          "output_type": "stream",
          "name": "stdout",
          "text": [
            "1\n",
            "20.2\n",
            "sdhgdhs\n",
            "var type <class 'str'>\n"
          ]
        }
      ]
    },
    {
      "cell_type": "code",
      "source": [
        "a = 10\n",
        "a = \"sjhjfhsdhfgd\"\n",
        "\n",
        "var = type(a)\n",
        "\n",
        "print(var)\n"
      ],
      "metadata": {
        "colab": {
          "base_uri": "https://localhost:8080/"
        },
        "id": "KSj5eL4Mytx5",
        "outputId": "a06465f2-e21a-4308-9661-219f41a44ab4"
      },
      "execution_count": null,
      "outputs": [
        {
          "output_type": "stream",
          "name": "stdout",
          "text": [
            "<class 'str'>\n"
          ]
        }
      ]
    },
    {
      "cell_type": "code",
      "source": [
        "a= 10\n",
        "b =20\n",
        "print (a+b)\n",
        "\n",
        "a=\"sjhfud\"\n",
        "b= \" geeks\"\n",
        "print(a+b)"
      ],
      "metadata": {
        "colab": {
          "base_uri": "https://localhost:8080/"
        },
        "id": "8STKoPn6y99q",
        "outputId": "fce0c958-3856-490e-895c-94f74864443d"
      },
      "execution_count": null,
      "outputs": [
        {
          "output_type": "stream",
          "name": "stdout",
          "text": [
            "30\n",
            "sjhfud geeks\n"
          ]
        }
      ]
    },
    {
      "cell_type": "code",
      "source": [
        "a = 10\n",
        "b = \"sgsdg\"\n",
        "result = str(a) + b\n",
        "print(result)\n"
      ],
      "metadata": {
        "colab": {
          "base_uri": "https://localhost:8080/"
        },
        "id": "xJGv9cOHzR_o",
        "outputId": "4536cfa3-33cf-49f9-da22-5494b1868dec"
      },
      "execution_count": null,
      "outputs": [
        {
          "output_type": "stream",
          "name": "stdout",
          "text": [
            "10sgsdg\n"
          ]
        }
      ]
    },
    {
      "cell_type": "code",
      "source": [
        "val = input(\"enter your value\")\n",
        "print(val)"
      ],
      "metadata": {
        "colab": {
          "base_uri": "https://localhost:8080/"
        },
        "id": "yVXWFWep0Eh0",
        "outputId": "d6aa9365-496f-4385-dd3e-55531a449ece"
      },
      "execution_count": null,
      "outputs": [
        {
          "output_type": "stream",
          "name": "stdout",
          "text": [
            "enter your valueruma\n",
            "ruma\n"
          ]
        }
      ]
    },
    {
      "cell_type": "code",
      "source": [
        "val = input (\"what is your salary\")\n",
        "print(val)\n"
      ],
      "metadata": {
        "colab": {
          "base_uri": "https://localhost:8080/"
        },
        "id": "8zLdX9ep0fnX",
        "outputId": "f5e1d1b4-4861-4a05-88b1-112ecaaa83d4"
      },
      "execution_count": null,
      "outputs": [
        {
          "output_type": "stream",
          "name": "stdout",
          "text": [
            "what is your salary4000\n",
            "4000\n"
          ]
        }
      ]
    },
    {
      "cell_type": "code",
      "source": [
        "num_str = input(\"What is your salary: \")\n",
        "num = float(num_str)\n",
        "print(\"Type of salary:\", type(num))\n",
        "print(\"Salary:\", num)\n"
      ],
      "metadata": {
        "colab": {
          "base_uri": "https://localhost:8080/"
        },
        "id": "xLAiaoQO1EkQ",
        "outputId": "d36f40de-7ff0-4658-977b-a7c95263b567"
      },
      "execution_count": 2,
      "outputs": [
        {
          "output_type": "stream",
          "name": "stdout",
          "text": [
            "What is your salary: 4000\n",
            "Type of salary: <class 'float'>\n",
            "Salary: 4000.0\n"
          ]
        }
      ]
    },
    {
      "cell_type": "code",
      "source": [
        "\n",
        "user_input = input(\"Enter something: \")\n",
        "\n",
        "print(f'The type of the input is: {type(user_input)}')\n"
      ],
      "metadata": {
        "colab": {
          "base_uri": "https://localhost:8080/"
        },
        "id": "RHaQrA0_2VSL",
        "outputId": "3a53e871-fe90-4a10-f8d3-e242f8422c94"
      },
      "execution_count": null,
      "outputs": [
        {
          "output_type": "stream",
          "name": "stdout",
          "text": [
            "Enter something: 40.0\n",
            "The type of the input is: <class 'str'>\n"
          ]
        }
      ]
    },
    {
      "cell_type": "code",
      "source": [
        "n = int(input(\"Enter the size of list: \"))\n",
        "lst = list (map(int, input( \"enter the int elemenet list (space-separate): \").strip().split()))[:n]\n",
        "print(\"the list is =\", lst )\n"
      ],
      "metadata": {
        "colab": {
          "base_uri": "https://localhost:8080/"
        },
        "id": "hughqSzE26fc",
        "outputId": "c895b56b-2aef-4af1-9404-9f57b405752e"
      },
      "execution_count": null,
      "outputs": [
        {
          "output_type": "stream",
          "name": "stdout",
          "text": [
            "Enter the size of list: 3\n",
            "enter the int elemenet list (space-separate): 1 2 3 4 5 6 7 8\n",
            "the list is = [1, 2, 3, 4, 5]\n"
          ]
        }
      ]
    },
    {
      "cell_type": "code",
      "source": [
        "#exam\n",
        "n = int(input(\"Enter the size of list: \"))\n",
        "lst= list(map(int, input(\" Enter the integer elements of list(Space-Separated): \").strip().split()))[:n]\n",
        "print(\" the list: \", lst)"
      ],
      "metadata": {
        "colab": {
          "base_uri": "https://localhost:8080/"
        },
        "id": "MuPLzwdB5eGb",
        "outputId": "2f7a9737-b39f-4640-821f-1aa546d90111"
      },
      "execution_count": null,
      "outputs": [
        {
          "output_type": "stream",
          "name": "stdout",
          "text": [
            "enter list number: 2\n",
            " space separe: 1 2 3 4 5\n",
            " the list:  [1, 2]\n"
          ]
        }
      ]
    },
    {
      "cell_type": "code",
      "source": [
        "a= 10\n",
        "b = 30\n",
        "c = 10.1\n",
        "print(a+b)\n",
        "print(a*b)\n",
        "print(a-c)\n",
        "print(a/b)\n",
        "\n",
        "\n"
      ],
      "metadata": {
        "colab": {
          "base_uri": "https://localhost:8080/"
        },
        "id": "eQv1XYfB7QTY",
        "outputId": "07091d3d-a503-4135-ba5e-e1a6bd59f25a"
      },
      "execution_count": null,
      "outputs": [
        {
          "output_type": "stream",
          "name": "stdout",
          "text": [
            "40\n",
            "300\n",
            "-0.09999999999999964\n",
            "0.3333333333333333\n"
          ]
        }
      ]
    },
    {
      "cell_type": "code",
      "source": [
        "print(type([]) is list)\n",
        "print(type([]) is not list)\n",
        "print(type([]) is tuple)\n",
        "print(type([]) is dict)\n",
        "print(type([]) is not dict)\n",
        "print(type([]) is not list)"
      ],
      "metadata": {
        "colab": {
          "base_uri": "https://localhost:8080/"
        },
        "id": "Fa-R0Ssg8C_a",
        "outputId": "a026549c-09e5-4503-e0cd-6f10fdc46ed2"
      },
      "execution_count": null,
      "outputs": [
        {
          "output_type": "stream",
          "name": "stdout",
          "text": [
            "True\n",
            "False\n",
            "False\n",
            "False\n",
            "True\n",
            "False\n"
          ]
        }
      ]
    },
    {
      "cell_type": "code",
      "source": [
        "#exam\n",
        "s = \"10010\"\n",
        "c = int(s,2)\n",
        "print (\"After converting to integer base 2: \", end = \" \")\n",
        "print(c)\n",
        "\n",
        "e=float(s)\n",
        "print(\"after converting to float: \", end= \" \")\n",
        "print(e)"
      ],
      "metadata": {
        "colab": {
          "base_uri": "https://localhost:8080/"
        },
        "id": "xe8IKM529NLN",
        "outputId": "7d00434d-7b47-4ba4-b6ca-32f54a4283b4"
      },
      "execution_count": null,
      "outputs": [
        {
          "output_type": "stream",
          "name": "stdout",
          "text": [
            "After converting to integer base 2:  18\n",
            "after converting to float:  10010.0\n"
          ]
        }
      ]
    }
  ]
}