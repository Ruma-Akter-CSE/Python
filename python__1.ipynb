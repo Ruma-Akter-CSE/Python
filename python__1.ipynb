{
  "nbformat": 4,
  "nbformat_minor": 0,
  "metadata": {
    "colab": {
      "provenance": []
    },
    "kernelspec": {
      "name": "python3",
      "display_name": "Python 3"
    },
    "language_info": {
      "name": "python"
    }
  },
  "cells": [
    {
      "cell_type": "code",
      "execution_count": null,
      "metadata": {
        "colab": {
          "base_uri": "https://localhost:8080/"
        },
        "id": "IkWu94OdaOgg",
        "outputId": "100df20e-d58e-4e63-d19c-34a606b28dc0"
      },
      "outputs": [
        {
          "output_type": "stream",
          "name": "stdout",
          "text": [
            "Enter A or B or C  :  A\n",
            "The letter is A\n"
          ]
        }
      ],
      "source": [
        "l=input(\"Enter A or B or C  :  \")\n",
        "\n",
        "if l==\"A\":\n",
        "  print(\"The letter is A\")\n",
        "elif l==\"B\":\n",
        "  print(\"The letter is B\")\n",
        "elif l==\"C\":\n",
        "  print(\"The letter is C\")\n",
        "else:\n",
        "  print(\"The letter is not A,B or C\")"
      ]
    },
    {
      "cell_type": "code",
      "source": [
        "a=[1,2,3,4]\n",
        "\n",
        "if isinstance(a, list):\n",
        "  print(\"Object is a list \")\n",
        "else:\n",
        "    print(\"Object is not a list\")\n",
        "\n"
      ],
      "metadata": {
        "colab": {
          "base_uri": "https://localhost:8080/"
        },
        "id": "w1DTMiflaVvl",
        "outputId": "b0a1fe87-a182-45dd-ca70-7bf342e299c7"
      },
      "execution_count": null,
      "outputs": [
        {
          "output_type": "stream",
          "name": "stdout",
          "text": [
            "Object is a list \n"
          ]
        }
      ]
    },
    {
      "cell_type": "code",
      "source": [
        "while a:\n",
        "  print(a.pop())"
      ],
      "metadata": {
        "colab": {
          "base_uri": "https://localhost:8080/"
        },
        "id": "tlreD72DdaPL",
        "outputId": "56e2b63b-c083-4567-d806-5270fdfaf7f0"
      },
      "execution_count": null,
      "outputs": [
        {
          "output_type": "stream",
          "name": "stdout",
          "text": [
            "4\n",
            "3\n",
            "2\n",
            "1\n"
          ]
        }
      ]
    },
    {
      "cell_type": "code",
      "source": [
        "count=0\n",
        "while(count<5):\n",
        "  count+=1\n",
        "  print(\"Hello Grek\")"
      ],
      "metadata": {
        "colab": {
          "base_uri": "https://localhost:8080/"
        },
        "id": "Ija-i3aDdndU",
        "outputId": "1d8d4b83-ed3c-495f-85fb-6c53f4ef6432"
      },
      "execution_count": null,
      "outputs": [
        {
          "output_type": "stream",
          "name": "stdout",
          "text": [
            "Hello Grek\n",
            "Hello Grek\n",
            "Hello Grek\n",
            "Hello Grek\n",
            "Hello Grek\n"
          ]
        }
      ]
    },
    {
      "cell_type": "code",
      "source": [
        "for i in range(0,10,2):\n",
        "  print(i,end=\" \")\n",
        "print()"
      ],
      "metadata": {
        "colab": {
          "base_uri": "https://localhost:8080/"
        },
        "id": "k6_fHf69eBZn",
        "outputId": "560ded4f-5bec-495c-fdee-81c21a52040a"
      },
      "execution_count": null,
      "outputs": [
        {
          "output_type": "stream",
          "name": "stdout",
          "text": [
            "0 2 4 6 8 \n"
          ]
        }
      ]
    },
    {
      "cell_type": "code",
      "source": [
        "x=[1,2]\n",
        "y=[4,5]\n",
        "\n",
        "for i in x:\n",
        "  for j in y:\n",
        "    print(i,j)"
      ],
      "metadata": {
        "colab": {
          "base_uri": "https://localhost:8080/"
        },
        "id": "IluU9BM-emN7",
        "outputId": "92630ca0-4603-43d2-ff5b-3afdffbcc9f0"
      },
      "execution_count": null,
      "outputs": [
        {
          "output_type": "stream",
          "name": "stdout",
          "text": [
            "1 4\n",
            "1 5\n",
            "2 4\n",
            "2 5\n"
          ]
        }
      ]
    },
    {
      "cell_type": "code",
      "source": [
        "for i in range(2,4):\n",
        "  for j in range(1,11):\n",
        "    print(i,\"*\",j,\"=\",i*j)\n",
        "print()"
      ],
      "metadata": {
        "colab": {
          "base_uri": "https://localhost:8080/"
        },
        "id": "3Fnj8pTjfyC8",
        "outputId": "905dec2a-345a-473f-fa22-41871d9f5f2b"
      },
      "execution_count": null,
      "outputs": [
        {
          "output_type": "stream",
          "name": "stdout",
          "text": [
            "2 * 1 = 2\n",
            "2 * 2 = 4\n",
            "2 * 3 = 6\n",
            "2 * 4 = 8\n",
            "2 * 5 = 10\n",
            "2 * 6 = 12\n",
            "2 * 7 = 14\n",
            "2 * 8 = 16\n",
            "2 * 9 = 18\n",
            "2 * 10 = 20\n",
            "3 * 1 = 3\n",
            "3 * 2 = 6\n",
            "3 * 3 = 9\n",
            "3 * 4 = 12\n",
            "3 * 5 = 15\n",
            "3 * 6 = 18\n",
            "3 * 7 = 21\n",
            "3 * 8 = 24\n",
            "3 * 9 = 27\n",
            "3 * 10 = 30\n",
            "\n"
          ]
        }
      ]
    },
    {
      "cell_type": "code",
      "source": [
        "list1=['I am ','You are']\n",
        "list2=['healthy','fine','geek']\n",
        "\n",
        "list2_size=len(list2)\n",
        "\n",
        "for item in list1:\n",
        "  print('start outer for loop')\n",
        "  i=0\n",
        "  while(i<list2_size):\n",
        "    print(item, list2[i])\n",
        "    i=i+1\n",
        "  print('end for loop')"
      ],
      "metadata": {
        "colab": {
          "base_uri": "https://localhost:8080/"
        },
        "id": "3BJEHd_hgufC",
        "outputId": "b77a3acd-e69c-4018-de0f-b913a3bc928c"
      },
      "execution_count": null,
      "outputs": [
        {
          "output_type": "stream",
          "name": "stdout",
          "text": [
            "start outer for loop\n",
            "I am  healthy\n",
            "I am  fine\n",
            "I am  geek\n",
            "end for loop\n",
            "start outer for loop\n",
            "You are healthy\n",
            "You are fine\n",
            "You are geek\n",
            "end for loop\n"
          ]
        }
      ]
    },
    {
      "cell_type": "code",
      "source": [
        "a=10\n",
        "b=10\n",
        "c=-10\n",
        "\n",
        "if a>0 and b>0:\n",
        "  print(\"The numbers are greater than 0\")\n",
        "\n",
        "if a>0 and b>0 and c>0:\n",
        "  print(\"The numbers are greater than 0\")\n",
        "\n",
        "else:\n",
        "  print(\"At least one number is greater than 0\")"
      ],
      "metadata": {
        "colab": {
          "base_uri": "https://localhost:8080/"
        },
        "id": "5pjIx1twjKFP",
        "outputId": "0a380528-20a8-4675-a86b-bbfae164f70c"
      },
      "execution_count": null,
      "outputs": [
        {
          "output_type": "stream",
          "name": "stdout",
          "text": [
            "The numbers are greater than 0\n",
            "At least one number is greater than 0\n"
          ]
        }
      ]
    },
    {
      "cell_type": "code",
      "source": [
        "a=10\n",
        "b=-10\n",
        "c=0\n",
        "\n",
        "if a>0 and b>0:\n",
        "  print(\"Either of the number is greater than 0\")\n",
        "else:\n",
        "  print(\"No number is greater than 0\")\n",
        "\n",
        "\n",
        "\n",
        "if b>0 or c>0:\n",
        "  print(\"Either of the number is greater than 0\")\n",
        "else:\n",
        "  print(\"No number is greater than 0\")"
      ],
      "metadata": {
        "colab": {
          "base_uri": "https://localhost:8080/"
        },
        "id": "CryHekKUk5Nt",
        "outputId": "1886d806-ce6c-4059-ad62-ccdb0b5373fe"
      },
      "execution_count": null,
      "outputs": [
        {
          "output_type": "stream",
          "name": "stdout",
          "text": [
            "No number is greater than 0\n",
            "No number is greater than 0\n"
          ]
        }
      ]
    },
    {
      "cell_type": "code",
      "source": [
        "def order(x):\n",
        "  print(\"Method called for value: \",x)\n",
        "  return True if x>0 else False\n",
        "\n",
        "a=order\n",
        "b=order\n",
        "c=order\n",
        "\n",
        "if a(-1) or b(5) or c(10):\n",
        "  print(\"At least one of the number is positive\")"
      ],
      "metadata": {
        "colab": {
          "base_uri": "https://localhost:8080/"
        },
        "id": "5LEJWPmclo03",
        "outputId": "a42ecf0c-14d9-4f36-be60-b7a9cee8f1f0"
      },
      "execution_count": null,
      "outputs": [
        {
          "output_type": "stream",
          "name": "stdout",
          "text": [
            "Method called for value:  -1\n",
            "Method called for value:  5\n",
            "At least one of the number is positive\n"
          ]
        }
      ]
    },
    {
      "cell_type": "code",
      "source": [
        "x=5\n",
        "y=5\n",
        "\n",
        "print(x is y)\n",
        "id(x)\n",
        "id(y)"
      ],
      "metadata": {
        "colab": {
          "base_uri": "https://localhost:8080/"
        },
        "id": "Ftbxj1tPmqUL",
        "outputId": "3713555b-4ce3-48c5-a7cb-d0bb53f98146"
      },
      "execution_count": null,
      "outputs": [
        {
          "output_type": "stream",
          "name": "stdout",
          "text": [
            "True\n"
          ]
        },
        {
          "output_type": "execute_result",
          "data": {
            "text/plain": [
              "136102288130416"
            ]
          },
          "metadata": {},
          "execution_count": 44
        }
      ]
    },
    {
      "cell_type": "code",
      "source": [
        "a=10\n",
        "b=4\n",
        "\n",
        "print(\"a & b = \", a & b)\n",
        "\n",
        "print(\"a | b = \",a | b)\n",
        "\n",
        "print(\"~a = \", ~a)\n",
        "\n",
        "print(\"a^b = \", a^b)"
      ],
      "metadata": {
        "colab": {
          "base_uri": "https://localhost:8080/"
        },
        "id": "jBwXpKjcn9ku",
        "outputId": "b11a49cd-1323-4815-cda2-4f0a10e40aaf"
      },
      "execution_count": null,
      "outputs": [
        {
          "output_type": "stream",
          "name": "stdout",
          "text": [
            "a & b =  0\n",
            "a | b =  14\n",
            "~a =  -11\n",
            "a^b =  14\n"
          ]
        }
      ]
    },
    {
      "cell_type": "code",
      "source": [
        "a=10\n",
        "b=-10\n",
        "\n",
        "print(\"a >> 1 \",a>>1)\n",
        "\n",
        "print(\"b>>1=\",b>>1)\n",
        "\n",
        "a=5\n",
        "b=-10\n",
        "\n",
        "print(\"a<<1=\",a<<1)\n",
        "print(\"b<<1=\",b<<1)\n"
      ],
      "metadata": {
        "colab": {
          "base_uri": "https://localhost:8080/"
        },
        "id": "9RRR8HshpPeD",
        "outputId": "6d9930d6-cb1f-4be5-ada6-02c0ff4e1608"
      },
      "execution_count": null,
      "outputs": [
        {
          "output_type": "stream",
          "name": "stdout",
          "text": [
            "a >> 1  5\n",
            "b>>1= -5\n",
            "a<<1= 10\n",
            "b<<1= -20\n"
          ]
        }
      ]
    },
    {
      "cell_type": "code",
      "source": [
        "num = int(input(\"Enter number:\"))\n",
        "\n",
        "for i in range(0, num):\n",
        "    for j in range(0, num):\n",
        "        print(\"*\", end=\"\")\n",
        "    print()"
      ],
      "metadata": {
        "colab": {
          "base_uri": "https://localhost:8080/"
        },
        "id": "lEJnJUmcq-C8",
        "outputId": "43079325-f902-47b4-f6e4-4713ca3a980a"
      },
      "execution_count": null,
      "outputs": [
        {
          "output_type": "stream",
          "name": "stdout",
          "text": [
            "Enter number:5\n",
            "*****\n",
            "*****\n",
            "*****\n",
            "*****\n",
            "*****\n"
          ]
        }
      ]
    },
    {
      "cell_type": "code",
      "source": [
        "n=10\n",
        "for i in range(n,-1,-1):\n",
        "  print(i,end=\" \")"
      ],
      "metadata": {
        "colab": {
          "base_uri": "https://localhost:8080/"
        },
        "id": "yZfDonPpzkhC",
        "outputId": "c9d55e74-9c92-49fc-f152-c9332daeac02"
      },
      "execution_count": null,
      "outputs": [
        {
          "output_type": "stream",
          "name": "stdout",
          "text": [
            "10 9 8 7 6 5 4 3 2 1 0 "
          ]
        }
      ]
    },
    {
      "cell_type": "code",
      "source": [],
      "metadata": {
        "id": "RoLLG7-704j0"
      },
      "execution_count": null,
      "outputs": []
    }
  ]
}